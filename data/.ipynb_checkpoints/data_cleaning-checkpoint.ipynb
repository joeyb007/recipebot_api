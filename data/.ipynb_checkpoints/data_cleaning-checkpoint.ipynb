{
 "cells": [
  {
   "cell_type": "code",
   "execution_count": 9,
   "id": "238bd5b6-cbdd-431a-9a38-1a36ca4e17c9",
   "metadata": {},
   "outputs": [],
   "source": [
    "import pandas as pd\n",
    "\n",
    "chunks = pd.read_csv('./recipes.csv', chunksize=1000)\n",
    "for i in range(5):\n",
    "    chunk = next(chunks)[['title', 'ingredients', 'directions']]\n",
    "    display(chunk.head())"
   ]
  },
  {
   "cell_type": "code",
   "execution_count": null,
   "id": "7aa0765a-e2e7-468d-b60a-9fdc35519477",
   "metadata": {},
   "outputs": [],
   "source": []
  }
 ],
 "metadata": {
  "kernelspec": {
   "display_name": "Python 3 (ipykernel)",
   "language": "python",
   "name": "python3"
  },
  "language_info": {
   "codemirror_mode": {
    "name": "ipython",
    "version": 3
   },
   "file_extension": ".py",
   "mimetype": "text/x-python",
   "name": "python",
   "nbconvert_exporter": "python",
   "pygments_lexer": "ipython3",
   "version": "3.13.3"
  }
 },
 "nbformat": 4,
 "nbformat_minor": 5
}
